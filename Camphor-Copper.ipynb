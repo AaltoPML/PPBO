{
 "cells": [
  {
   "cell_type": "markdown",
   "metadata": {},
   "source": [
    "# Projective Preferential Bayesian Optimization: Campor/Cu(111)"
   ]
  },
  {
   "cell_type": "markdown",
   "metadata": {},
   "source": [
    "<font size=\"4\">In this notebook the user's belief about an optimal configuration can be elicited by using the [Projective Preferential Bayesian Optimization](https://arxiv.org/abs/2002.03113) framework. The problem case is the adsorption of a non-symmetric bulky molecule camphor on the flat surface of (111)-plane terminated Cu slab.</font> "
   ]
  },
  {
   "cell_type": "markdown",
   "metadata": {},
   "source": [
    "#### Import dependencies"
   ]
  },
  {
   "cell_type": "code",
   "execution_count": 1,
   "metadata": {},
   "outputs": [],
   "source": [
    "import time\n",
    "import numpy as np\n",
    "import Camphor_Copper.GUI as GUI\n",
    "from gp_model import GPModel\n",
    "from ppbo_settings import PPBO_settings\n",
    "from acquisition import next_query\n",
    "from IPython.display import display, HTML\n",
    "import sys\n",
    "from datetime import datetime"
   ]
  },
  {
   "cell_type": "markdown",
   "metadata": {},
   "source": [
    "#### Define the problem setting and the aquisition strategy\n",
    "There are six possible acquisition startegies:\n",
    "- PCD = preferential coordinate descent\n",
    "- EI = expected improvement by projective preferential query\n",
    "- EXT = pure exploitation\n",
    "- EXR = pure exploration (variance maximization)\n",
    "- RAND = random "
   ]
  },
  {
   "cell_type": "code",
   "execution_count": 2,
   "metadata": {},
   "outputs": [],
   "source": [
    "acquisition_strategy = 'EI'"
   ]
  },
  {
   "cell_type": "code",
   "execution_count": 3,
   "metadata": {},
   "outputs": [],
   "source": [
    "PPBO_settings = PPBO_settings(D=6,bounds=((-0.5,0.5),(-0.5,0.5),(4,7),(-180,180),(-180,180),(-180,180)),\n",
    "                    xi_acquisition_function=acquisition_strategy,verbose=True)"
   ]
  },
  {
   "cell_type": "markdown",
   "metadata": {},
   "source": [
    "#### Set initial queries"
   ]
  },
  {
   "cell_type": "code",
   "execution_count": 4,
   "metadata": {},
   "outputs": [
    {
     "name": "stdout",
     "output_type": "stream",
     "text": [
      "Number of initial queries is: 6\n"
     ]
    }
   ],
   "source": [
    "initial_queries_xi = np.array([list(np.eye(6)[i]) for i in range(6)]) #Initial xi:s correspond to unit vectors\n",
    "initial_queries_x = np.array([[-0.5, -0.5, 5.0, -84.4, 142.8, 2.7],\n",
    "                              [0.25, -0.25, 5.0, -84.4, 142.8, 2.7],\n",
    "                              [-0.125, -0.125, 5.0, -84.4, 142.8, 2.7],\n",
    "                              [-0.3147064250413807, -0.1379205809600735, 5.0, -84.4, 142.8, 2.7],\n",
    "                              [-0.1420906798614234, -0.3133597318361268, 5.0, -84.4, 142.8, 2.7],\n",
    "                              [0.3564088304603891, 0.3885800560423534, 5.0, -84.4, 142.8, 2.7]]) \n",
    "print(\"Number of initial queries is: \" + str(len(initial_queries_xi)))"
   ]
  },
  {
   "cell_type": "markdown",
   "metadata": {},
   "source": [
    "#### Querying settings"
   ]
  },
  {
   "cell_type": "code",
   "execution_count": 5,
   "metadata": {},
   "outputs": [],
   "source": [
    "NUMBER_OF_QUERIES = 12\n",
    "ADAPTIVE_INITIALIZATION = True  #At initilization: immediatly update the coordinate according to the user feedback"
   ]
  },
  {
   "cell_type": "markdown",
   "metadata": {},
   "source": [
    "#### Hyperparameter optimization"
   ]
  },
  {
   "cell_type": "code",
   "execution_count": 6,
   "metadata": {},
   "outputs": [],
   "source": [
    "OPTIMIZE_HYPERPARAMETERS_AFTER_INITIALIZATION = False\n",
    "OPTIMIZE_HYPERPARAMETERS_AFTER_EACH_ITERATION = False\n",
    "OPTIMIZE_HYPERPARAMETERS_AFTER_ACTUAL_QUERY_NUMBER = 1000 "
   ]
  },
  {
   "cell_type": "markdown",
   "metadata": {},
   "source": [
    "#### Initialize the user session"
   ]
  },
  {
   "cell_type": "code",
   "execution_count": 7,
   "metadata": {},
   "outputs": [],
   "source": [
    "should_log = False\n",
    "if should_log:\n",
    "    orig_stdout = sys.stdout\n",
    "    log_file = open('Camphor_Copper/user_session_log_'+str(datetime.now().strftime(\"%d-%m-%Y_%H-%M-%S\"))+'.txt', \"w\")\n",
    "    sys.stdout = log_file\n",
    "GUI_ses = GUI.GUI_session(PPBO_settings)\n",
    "results_mu_star = []\n",
    "results_x_star = []"
   ]
  },
  {
   "cell_type": "markdown",
   "metadata": {},
   "source": [
    "## PPBO loops"
   ]
  },
  {
   "cell_type": "code",
   "execution_count": 8,
   "metadata": {},
   "outputs": [],
   "source": [
    "start = time.time() "
   ]
  },
  {
   "cell_type": "markdown",
   "metadata": {},
   "source": [
    "### 1. Initialization loop"
   ]
  },
  {
   "cell_type": "code",
   "execution_count": null,
   "metadata": {
    "scrolled": true
   },
   "outputs": [
    {
     "name": "stdout",
     "output_type": "stream",
     "text": [
      "--- Feedback ---\n",
      "Typed value: 50.0\n",
      "... converted to: [ 9.50401108e-03 -5.00000000e-01  5.00000000e+00 -8.44000000e+01\n",
      "  1.42800000e+02  2.70000000e+00]\n",
      "Iteration done!\n",
      "MAP-estimation begins...\n",
      "Optimization terminated successfully.\n",
      "         Current function value: 0.481588\n",
      "         Iterations: 3\n",
      "         Function evaluations: 4\n",
      "         Gradient evaluations: 4\n",
      "         Hessian evaluations: 4\n",
      "... this took 0.027261734008789062 seconds.\n",
      "Current theta is: [0.001, 20, 0.001] (Acq. = EI)\n",
      "Updating Lambda_MAP...\n",
      "... this took 0.0022644996643066406 seconds.\n",
      "Updating posterior covariance...\n",
      "... this took 0.0005552768707275391 seconds.\n",
      "Computing mu_star and x_star ...\n",
      "... this took 0.26085424423217773 seconds.\n",
      "x_star of the iteration: [0.54852694 0.0034054  0.34408487 0.26422064 0.89621788 0.51712584]\n",
      "--- Feedback ---\n",
      "Typed value: 68.0\n",
      "... converted to: [ 9.50401108e-03  1.70619314e-01  5.00000000e+00 -8.44000000e+01\n",
      "  1.42800000e+02  2.70000000e+00]\n",
      "Iteration done!\n",
      "MAP-estimation begins...\n",
      "Warning: A bad approximation caused failure to predict improvement.\n",
      "         Current function value: 0.968229\n",
      "         Iterations: 2\n",
      "         Function evaluations: 4\n",
      "         Gradient evaluations: 3\n",
      "         Hessian evaluations: 4\n",
      "... this took 0.13164162635803223 seconds.\n",
      "Current theta is: [0.001, 20, 0.001] (Acq. = EI)\n",
      "Updating Lambda_MAP...\n",
      "... this took 0.003414154052734375 seconds.\n",
      "Updating posterior covariance...\n",
      "... this took 0.0009665489196777344 seconds.\n",
      "Computing mu_star and x_star ...\n",
      "... this took 0.1947166919708252 seconds.\n",
      "x_star of the iteration: [0.50907829 0.68025474 0.34320124 0.26134915 0.89890774 0.50746123]\n",
      "--- Feedback ---\n",
      "Typed value: 29.0\n",
      "... converted to: [ 9.50401108e-03  1.70619314e-01  4.82558771e+00 -8.44000000e+01\n",
      "  1.42800000e+02  2.70000000e+00]\n",
      "Iteration done!\n",
      "MAP-estimation begins...\n",
      "Warning: A bad approximation caused failure to predict improvement.\n",
      "         Current function value: 1.438577\n",
      "         Iterations: 2\n",
      "         Function evaluations: 4\n",
      "         Gradient evaluations: 3\n",
      "         Hessian evaluations: 4\n",
      "... this took 0.14290904998779297 seconds.\n",
      "Current theta is: [0.001, 20, 0.001] (Acq. = EI)\n",
      "Updating Lambda_MAP...\n",
      "... this took 0.005303621292114258 seconds.\n",
      "Updating posterior covariance...\n",
      "... this took 0.0006723403930664062 seconds.\n",
      "Computing mu_star and x_star ...\n",
      "... this took 0.3253757953643799 seconds.\n",
      "x_star of the iteration: [0.51033847 0.67636562 0.28845493 0.26577439 0.89696613 0.50839374]\n"
     ]
    }
   ],
   "source": [
    "for i in range(len(initial_queries_xi)):\n",
    "    ''' Present query to the user '''\n",
    "    xi = initial_queries_xi[i].copy()\n",
    "    if not i==0 and GUI_ses.user_feedback is not None and ADAPTIVE_INITIALIZATION:\n",
    "        initial_queries_x[i:,:] = GUI_ses.user_feedback\n",
    "    x = initial_queries_x[i].copy()\n",
    "    x[xi!=0] = 0\n",
    "    GUI_ses.set_x(x)\n",
    "    GUI_ses.set_xi(xi)\n",
    "    GUI_ses.run_iteration(allow_feedback=True)\n",
    "    ''' Create GP model for first time '''\n",
    "    if i==0:\n",
    "        GP_model = GPModel(PPBO_settings)\n",
    "    ''' Update GP model '''\n",
    "    GP_model.update_feedback_processing_object(np.array(GUI_ses.results))\n",
    "    GP_model.update_data()\n",
    "    GP_model.update_model()\n",
    "    ''' Save the predictive mean maximum and maximizer'''\n",
    "    print(\"x_star of the iteration: \" + str(GP_model.x_star_))\n",
    "    results_mu_star.append(GP_model.mu_star_)\n",
    "    results_x_star.append(GP_model.x_star_)   \n",
    "if OPTIMIZE_HYPERPARAMETERS_AFTER_INITIALIZATION:\n",
    "    GP_model.update_model(optimize_theta=OPTIMIZE_HYPERPARAMETERS_AFTER_INITIALIZATION)  \n",
    "print(\"Initialization done!\")"
   ]
  },
  {
   "cell_type": "markdown",
   "metadata": {},
   "source": [
    "### 2. Main loop"
   ]
  },
  {
   "cell_type": "code",
   "execution_count": null,
   "metadata": {
    "scrolled": true
   },
   "outputs": [],
   "source": [
    "for i in range(NUMBER_OF_QUERIES):\n",
    "    print(\"Starting query \" + str(i+1)+\"/\"+str(NUMBER_OF_QUERIES)+\" ...\")\n",
    "    ''' Compute next query '''\n",
    "    xi_next,x_next = next_query(PPBO_settings,GP_model,unscale=True)\n",
    "    ''' Present this to the user '''\n",
    "    GUI_ses.set_xi(xi_next)\n",
    "    GUI_ses.set_x(x_next)\n",
    "    GUI_ses.run_iteration(allow_feedback=True)\n",
    "    ''' Append the user feedback '''\n",
    "    GP_model.update_feedback_processing_object(np.array(GUI_ses.results))\n",
    "    GP_model.mu_star_previous_iteration = GP_model.mu_star_\n",
    "    ''' Update the model '''\n",
    "    GP_model.update_data()\n",
    "    if i+1==OPTIMIZE_HYPERPARAMETERS_AFTER_ACTUAL_QUERY_NUMBER:\n",
    "        GP_model.update_model(optimize_theta=True)     \n",
    "    else:\n",
    "        GP_model.update_model(optimize_theta=OPTIMIZE_HYPERPARAMETERS_AFTER_EACH_ITERATION)\n",
    "    ''' Save the predictive mean maximum and maximizer'''\n",
    "    print(\"x_star of the iteration: \" + str(GP_model.x_star_))\n",
    "    results_mu_star.append(GP_model.mu_star_)\n",
    "    results_x_star.append(GP_model.x_star_)"
   ]
  },
  {
   "cell_type": "code",
   "execution_count": null,
   "metadata": {},
   "outputs": [],
   "source": [
    "print(\"---------------------------------------\")\n",
    "print(\"The session completed!\")\n",
    "print(\"Total time: \" + str(time.time()-start) + \" seconds.\")\n",
    "x_star_, mu_star_  = GP_model.mu_star(mu_star_finding_trials=20)\n",
    "x_star_unscaled = GP_model.FP.unscale(x_star_)\n",
    "print(\"The final x_star: \" + str(x_star_))"
   ]
  },
  {
   "cell_type": "markdown",
   "metadata": {},
   "source": [
    "## Save the results"
   ]
  },
  {
   "cell_type": "markdown",
   "metadata": {},
   "source": [
    "#### Generate html-file corresponding to the user's most preferred configuration"
   ]
  },
  {
   "cell_type": "code",
   "execution_count": null,
   "metadata": {},
   "outputs": [],
   "source": [
    "optimal_configuration_html = GUI.generate_optimal_configuration(x_star_unscaled)"
   ]
  },
  {
   "cell_type": "markdown",
   "metadata": {},
   "source": [
    "#### Save the user session results"
   ]
  },
  {
   "cell_type": "code",
   "execution_count": null,
   "metadata": {},
   "outputs": [],
   "source": [
    "#Save results to csv-file\n",
    "print(\"Saving the user session results...\")\n",
    "user_session_results = GUI_ses.results.copy()\n",
    "user_session_results['iter_mu_star'] = results_mu_star\n",
    "user_session_results['iter_x_star'] = results_x_star\n",
    "user_session_results.to_csv('Camphor_Copper/user_session_results_'+str(datetime.now().strftime(\"%d-%m-%Y_%H-%M-%S\"))+'.csv',index=False)\n",
    "#Close the log-file\n",
    "if should_log:\n",
    "    sys.stdout = orig_stdout\n",
    "    log_file.close()"
   ]
  },
  {
   "cell_type": "markdown",
   "metadata": {},
   "source": [
    "## Analyze the results"
   ]
  },
  {
   "cell_type": "markdown",
   "metadata": {},
   "source": [
    "#### View the user's most preferred configuration\n",
    "This open an ASE-package viewer. Press the button \"i\" to restore a default view."
   ]
  },
  {
   "cell_type": "code",
   "execution_count": null,
   "metadata": {},
   "outputs": [],
   "source": [
    "#HTML(filename=optimal_configuration_html)"
   ]
  },
  {
   "cell_type": "markdown",
   "metadata": {},
   "source": [
    "#### Slice plots of the utility function (predictive mean)"
   ]
  },
  {
   "cell_type": "code",
   "execution_count": null,
   "metadata": {},
   "outputs": [],
   "source": [
    "import Camphor_Copper.plot_results as pr\n",
    "%matplotlib notebook"
   ]
  },
  {
   "cell_type": "code",
   "execution_count": null,
   "metadata": {},
   "outputs": [],
   "source": [
    "pr.sliceplot_pred_mean('alpha','beta',GP_model,x_star_)"
   ]
  },
  {
   "cell_type": "code",
   "execution_count": null,
   "metadata": {},
   "outputs": [],
   "source": [
    "pr.sliceplot_pred_mean('x','y',GP_model,x_star_)"
   ]
  },
  {
   "cell_type": "code",
   "execution_count": null,
   "metadata": {},
   "outputs": [],
   "source": [
    "pr.sliceplot_pred_mean('z','gamma',GP_model,x_star_)"
   ]
  },
  {
   "cell_type": "code",
   "execution_count": null,
   "metadata": {},
   "outputs": [],
   "source": [
    "print(\"The most preferred configuration (unscaled): \" + str(list(GP_model.FP.unscale(x_star_))))"
   ]
  },
  {
   "cell_type": "code",
   "execution_count": null,
   "metadata": {},
   "outputs": [],
   "source": [
    "print(\"The most preferred configuration (scaled): \" + str(list(x_star_)))"
   ]
  }
 ],
 "metadata": {
  "kernelspec": {
   "display_name": "Python 3",
   "language": "python",
   "name": "python3"
  },
  "language_info": {
   "codemirror_mode": {
    "name": "ipython",
    "version": 3
   },
   "file_extension": ".py",
   "mimetype": "text/x-python",
   "name": "python",
   "nbconvert_exporter": "python",
   "pygments_lexer": "ipython3",
   "version": "3.7.4"
  }
 },
 "nbformat": 4,
 "nbformat_minor": 2
}
